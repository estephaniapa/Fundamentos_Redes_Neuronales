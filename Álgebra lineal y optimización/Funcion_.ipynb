{
 "cells": [
  {
   "cell_type": "code",
   "execution_count": 1,
   "metadata": {},
   "outputs": [],
   "source": [
    "l = [1, 5, 6, 7]\n",
    "d={'s':3, 'r':10}"
   ]
  },
  {
   "cell_type": "code",
   "execution_count": 2,
   "metadata": {},
   "outputs": [
    {
     "name": "stdout",
     "output_type": "stream",
     "text": [
      "1 1\n",
      "5 25\n",
      "6 36\n",
      "7 49\n",
      "adios\n"
     ]
    }
   ],
   "source": [
    "for x in l:\n",
    "    a = x**2\n",
    "    print(x,a)\n",
    "print('adios')"
   ]
  },
  {
   "cell_type": "code",
   "execution_count": 6,
   "metadata": {},
   "outputs": [
    {
     "name": "stdout",
     "output_type": "stream",
     "text": [
      "hola 3 9\n",
      "hola 10 100\n",
      "adios\n"
     ]
    }
   ],
   "source": [
    "k='hola'\n",
    "for (x,v) in d.items():\n",
    "    a= v**2\n",
    "    print(k, v, a)\n",
    "print('adios')"
   ]
  },
  {
   "cell_type": "code",
   "execution_count": 2,
   "metadata": {},
   "outputs": [],
   "source": [
    "def funcion_ejemplo(lista, imprime=False):\n",
    "    \"\"\"\n",
    "    Explicacion un dos tres shalalalalalalalala\n",
    "    \"\"\"\n",
    "\n",
    "    d={}\n",
    "    for x in set(lista):\n",
    "        d[x]=lista.count(x)\n",
    "    if imprime:\n",
    "        for (x,c) in d.items():\n",
    "            print(\n",
    "                str(x).ljust(10) + \n",
    "                (c * '*').ljust(10) + \n",
    "                f\"{x} -> {100 * c/len(lista):.2f}%\")"
   ]
  },
  {
   "cell_type": "code",
   "execution_count": 4,
   "metadata": {},
   "outputs": [
    {
     "name": "stdout",
     "output_type": "stream",
     "text": [
      "1         ***       1 -> 27.27%\n",
      "2         *****     2 -> 45.45%\n",
      "3         *         3 -> 9.09%\n",
      "4         *         4 -> 9.09%\n",
      "6         *         6 -> 9.09%\n"
     ]
    }
   ],
   "source": [
    "funcion_ejemplo([1,2,3,1, 2, 2, 2, 1, 2,4,6], True)"
   ]
  },
  {
   "cell_type": "code",
   "execution_count": null,
   "metadata": {},
   "outputs": [],
   "source": []
  }
 ],
 "metadata": {
  "kernelspec": {
   "display_name": "Python 3",
   "language": "python",
   "name": "python3"
  },
  "language_info": {
   "codemirror_mode": {
    "name": "ipython",
    "version": 3
   },
   "file_extension": ".py",
   "mimetype": "text/x-python",
   "name": "python",
   "nbconvert_exporter": "python",
   "pygments_lexer": "ipython3",
   "version": "3.9.6"
  },
  "orig_nbformat": 4
 },
 "nbformat": 4,
 "nbformat_minor": 2
}
